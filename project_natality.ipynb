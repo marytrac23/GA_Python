{
 "cells": [
  {
   "cell_type": "code",
   "execution_count": null,
   "metadata": {},
   "outputs": [],
   "source": [
    "%matplotlib inline\n",
    "import numpy as np\n",
    "import matplotlib.pyplot as plt\n",
    "import pandas as pd"
   ]
  },
  {
   "cell_type": "code",
   "execution_count": null,
   "metadata": {},
   "outputs": [],
   "source": [
    "df0 = pd.read_csv('data/Popular_Baby_Names.csv')\n",
    "#Data were collected through civil birth registration. Each record represents the ranking of a \n",
    "#baby name in the order of frequency. Data can be used to represent the popularity of a name. \n",
    "#Caution should be used when assessing the rank of a baby name if the frequency count is close to 10; \n",
    "#the ranking may vary year to year.\n",
    "df0.head()"
   ]
  },
  {
   "cell_type": "code",
   "execution_count": null,
   "metadata": {},
   "outputs": [],
   "source": [
    "df0.shape"
   ]
  },
  {
   "cell_type": "code",
   "execution_count": null,
   "metadata": {},
   "outputs": [],
   "source": [
    "df = df0.rename(columns = {\"Child's First Name\":\"Name\"})\n",
    "df.head()"
   ]
  },
  {
   "cell_type": "code",
   "execution_count": null,
   "metadata": {},
   "outputs": [],
   "source": [
    "df[\"Name\"] = df[\"Name\"].str.title()"
   ]
  },
  {
   "cell_type": "code",
   "execution_count": null,
   "metadata": {},
   "outputs": [],
   "source": [
    "df.head()"
   ]
  },
  {
   "cell_type": "code",
   "execution_count": null,
   "metadata": {},
   "outputs": [],
   "source": [
    "gndr_types = df[\"Gender\"].value_counts()\n",
    "gndr_types"
   ]
  },
  {
   "cell_type": "code",
   "execution_count": null,
   "metadata": {},
   "outputs": [],
   "source": [
    "ethn_types = df[\"Ethnicity\"].value_counts()\n",
    "ethn_types"
   ]
  },
  {
   "cell_type": "code",
   "execution_count": null,
   "metadata": {},
   "outputs": [],
   "source": [
    "df[\"Ethnicity\"] = df[\"Ethnicity\"].replace(\"ASIAN AND PACI\",\"ASIAN AND PACIFIC ISLANDER\").replace(\"WHITE NON HISPANIC\",\"WHITE NON HISP\").replace(\"BLACK NON HISPANIC\",\"BLACK NON HISP\")\n",
    "ethn_types = df[\"Ethnicity\"].value_counts()\n",
    "ethn_types"
   ]
  },
  {
   "cell_type": "code",
   "execution_count": null,
   "metadata": {},
   "outputs": [],
   "source": [
    "df.sort_values(by=\"Name\").head(10)"
   ]
  },
  {
   "cell_type": "code",
   "execution_count": null,
   "metadata": {},
   "outputs": [],
   "source": [
    "df.info()"
   ]
  },
  {
   "cell_type": "code",
   "execution_count": null,
   "metadata": {},
   "outputs": [],
   "source": [
    "def gender_select():\n",
    "    df_male = df[df[\"Gender\"] == \"MALE\"]\n",
    "    df_female = df[df[\"Gender\"] == \"FEMALE\"]\n",
    "    gender_response = input(\"Choose gender (M or F):\")\n",
    "    if gender_response == \"M\" :\n",
    "        return df_male\n",
    "        df_male.shape\n",
    "    elif gender_response == \"F\":\n",
    "        return df_female       \n",
    "        df_female.shape\n",
    "    else:\n",
    "        print(\"Please enter M or F\")\n",
    "        "
   ]
  },
  {
   "cell_type": "code",
   "execution_count": null,
   "metadata": {},
   "outputs": [],
   "source": [
    "gender_select()"
   ]
  },
  {
   "cell_type": "code",
   "execution_count": null,
   "metadata": {},
   "outputs": [],
   "source": [
    "name_ex = \"Sophia\"\n",
    "print(name_ex[0])"
   ]
  },
  {
   "cell_type": "code",
   "execution_count": null,
   "metadata": {},
   "outputs": [],
   "source": [
    "def letter_select():\n",
    "    letter_response = input(\"The name begins with:\")\n",
    "    if letter_response:\n",
    "        return df[df['Name'].str.startswith(letter_response)]"
   ]
  },
  {
   "cell_type": "code",
   "execution_count": null,
   "metadata": {},
   "outputs": [],
   "source": [
    "letter_select()"
   ]
  },
  {
   "cell_type": "code",
   "execution_count": null,
   "metadata": {},
   "outputs": [],
   "source": [
    "def name_select():\n",
    "    \"\"\"\n",
    "    This function filters the dataframe by gender based on the user's first input, then filters by the first letter of \n",
    "    names based on the user's second input. Input entries must be in all caps.\n",
    "    \"\"\"\n",
    "    df_male = df[df[\"Gender\"] == \"MALE\"]\n",
    "    df_female = df[df[\"Gender\"] == \"FEMALE\"]\n",
    "    gender_response = input(\"Choose gender (M or F):\")\n",
    "    gender_response = gender_response.title()\n",
    "\n",
    "    if gender_response == \"M\" :\n",
    "        letter_response = input(\"The name begins with:\")\n",
    "        letter_response = letter_response.title()\n",
    "        if letter_response:\n",
    "            return df_male[df_male[\"Name\"].str.startswith(letter_response)].sort_values(by=\"Rank\",ascending=False).drop_duplicates(\"Name\")\n",
    "        \n",
    "    elif gender_response == \"F\":\n",
    "        letter_response = input(\"The name begins with:\")\n",
    "        letter_response = letter_response.title()\n",
    "        if letter_response:\n",
    "            return df_female[df_female[\"Name\"].str.startswith(letter_response)].sort_values(by=\"Rank\",ascending=False).drop_duplicates(\"Name\")\n",
    "    \n",
    "    else:\n",
    "        print(\"Please select M or F\")\n",
    "#how can I have the function print the \"gender_response\" input again?"
   ]
  },
  {
   "cell_type": "code",
   "execution_count": null,
   "metadata": {},
   "outputs": [],
   "source": [
    "name_select()"
   ]
  },
  {
   "cell_type": "code",
   "execution_count": null,
   "metadata": {},
   "outputs": [],
   "source": [
    "#top 5 girl names by year\n",
    "top_girl_year11 = df[(df[\"Gender\"] == \"FEMALE\") & (df[\"Year of Birth\"] == 2011)].sort_values(by=\"Count\",ascending=False).reset_index().drop(columns=[\"index\",\"Gender\",\"Year of Birth\",\"Ethnicity\",\"Rank\"]).rename(columns = {\"Name\":\"2011\"}).head(5)\n",
    "top_girl_year12 = df[(df[\"Gender\"] == \"FEMALE\") & (df[\"Year of Birth\"] == 2012)].sort_values(by=\"Count\",ascending=False).reset_index().drop(columns=[\"index\",\"Gender\",\"Year of Birth\",\"Ethnicity\",\"Rank\"]).rename(columns = {\"Name\":\"2012\"}).head(5)\n",
    "top_girl_year13 = df[(df[\"Gender\"] == \"FEMALE\") & (df[\"Year of Birth\"] == 2013)].sort_values(by=\"Count\",ascending=False).reset_index().drop(columns=[\"index\",\"Gender\",\"Year of Birth\",\"Ethnicity\",\"Rank\"]).rename(columns = {\"Name\":\"2013\"}).head(5)\n",
    "top_girl_year14 = df[(df[\"Gender\"] == \"FEMALE\") & (df[\"Year of Birth\"] == 2014)].sort_values(by=\"Count\",ascending=False).reset_index().drop(columns=[\"index\",\"Gender\",\"Year of Birth\",\"Ethnicity\",\"Rank\"]).rename(columns = {\"Name\":\"2014\"}).head(5)\n",
    "top_girl_year15 = df[(df[\"Gender\"] == \"FEMALE\") & (df[\"Year of Birth\"] == 2015)].sort_values(by=\"Count\",ascending=False).reset_index().drop(columns=[\"index\",\"Gender\",\"Year of Birth\",\"Ethnicity\",\"Rank\"]).rename(columns = {\"Name\":\"2015\"}).head(5)\n",
    "top_girl_year16 = df[(df[\"Gender\"] == \"FEMALE\") & (df[\"Year of Birth\"] == 2016)].sort_values(by=\"Count\",ascending=False).reset_index().drop(columns=[\"index\",\"Gender\",\"Year of Birth\",\"Ethnicity\",\"Rank\"]).rename(columns = {\"Name\":\"2016\"}).head(5)\n",
    "\n",
    "pd.concat([top_girl_year11,top_girl_year12,top_girl_year13,top_girl_year14,top_girl_year15,top_girl_year16],axis=1)"
   ]
  },
  {
   "cell_type": "code",
   "execution_count": null,
   "metadata": {},
   "outputs": [],
   "source": [
    "#top 5 boy names by year\n",
    "top_boy_year11 = df[(df[\"Gender\"] == \"MALE\") & (df[\"Year of Birth\"] == 2011)].sort_values(by=\"Count\",ascending=False).reset_index().drop(columns=[\"index\",\"Gender\",\"Year of Birth\",\"Ethnicity\",\"Rank\"]).rename(columns = {\"Name\":\"2011\"}).head(5)\n",
    "top_boy_year12 = df[(df[\"Gender\"] == \"MALE\") & (df[\"Year of Birth\"] == 2012)].sort_values(by=\"Count\",ascending=False).reset_index().drop(columns=[\"index\",\"Gender\",\"Year of Birth\",\"Ethnicity\",\"Rank\"]).rename(columns = {\"Name\":\"2012\"}).head(5)\n",
    "top_boy_year13 = df[(df[\"Gender\"] == \"MALE\") & (df[\"Year of Birth\"] == 2013)].sort_values(by=\"Count\",ascending=False).reset_index().drop(columns=[\"index\",\"Gender\",\"Year of Birth\",\"Ethnicity\",\"Rank\"]).rename(columns = {\"Name\":\"2013\"}).head(5)\n",
    "top_boy_year14 = df[(df[\"Gender\"] == \"MALE\") & (df[\"Year of Birth\"] == 2014)].sort_values(by=\"Count\",ascending=False).reset_index().drop(columns=[\"index\",\"Gender\",\"Year of Birth\",\"Ethnicity\",\"Rank\"]).rename(columns = {\"Name\":\"2014\"}).head(5)\n",
    "top_boy_year15 = df[(df[\"Gender\"] == \"MALE\") & (df[\"Year of Birth\"] == 2015)].sort_values(by=\"Count\",ascending=False).reset_index().drop(columns=[\"index\",\"Gender\",\"Year of Birth\",\"Ethnicity\",\"Rank\"]).rename(columns = {\"Name\":\"2015\"}).head(5)\n",
    "top_boy_year16 = df[(df[\"Gender\"] == \"MALE\") & (df[\"Year of Birth\"] == 2016)].sort_values(by=\"Count\",ascending=False).reset_index().drop(columns=[\"index\",\"Gender\",\"Year of Birth\",\"Ethnicity\",\"Rank\"]).rename(columns = {\"Name\":\"2016\"}).head(5)\n",
    "\n",
    "pd.concat([top_boy_year11,top_boy_year12,top_boy_year13,top_boy_year14,top_boy_year15,top_boy_year16],axis=1)"
   ]
  },
  {
   "cell_type": "code",
   "execution_count": null,
   "metadata": {},
   "outputs": [],
   "source": []
  },
  {
   "cell_type": "code",
   "execution_count": 335,
   "metadata": {},
   "outputs": [
    {
     "data": {
      "text/html": [
       "<div>\n",
       "<style scoped>\n",
       "    .dataframe tbody tr th:only-of-type {\n",
       "        vertical-align: middle;\n",
       "    }\n",
       "\n",
       "    .dataframe tbody tr th {\n",
       "        vertical-align: top;\n",
       "    }\n",
       "\n",
       "    .dataframe thead th {\n",
       "        text-align: right;\n",
       "    }\n",
       "</style>\n",
       "<table border=\"1\" class=\"dataframe\">\n",
       "  <thead>\n",
       "    <tr style=\"text-align: right;\">\n",
       "      <th></th>\n",
       "      <th>Count</th>\n",
       "    </tr>\n",
       "    <tr>\n",
       "      <th>WHITE NON HISP</th>\n",
       "      <th></th>\n",
       "    </tr>\n",
       "  </thead>\n",
       "  <tbody>\n",
       "    <tr>\n",
       "      <th>Esther</th>\n",
       "      <td>1278</td>\n",
       "    </tr>\n",
       "    <tr>\n",
       "      <th>Leah</th>\n",
       "      <td>1185</td>\n",
       "    </tr>\n",
       "    <tr>\n",
       "      <th>Sarah</th>\n",
       "      <td>1163</td>\n",
       "    </tr>\n",
       "    <tr>\n",
       "      <th>Chaya</th>\n",
       "      <td>1061</td>\n",
       "    </tr>\n",
       "    <tr>\n",
       "      <th>Rachel</th>\n",
       "      <td>985</td>\n",
       "    </tr>\n",
       "  </tbody>\n",
       "</table>\n",
       "</div>"
      ],
      "text/plain": [
       "                Count\n",
       "WHITE NON HISP       \n",
       "Esther           1278\n",
       "Leah             1185\n",
       "Sarah            1163\n",
       "Chaya            1061\n",
       "Rachel            985"
      ]
     },
     "execution_count": 335,
     "metadata": {},
     "output_type": "execute_result"
    }
   ],
   "source": [
    "#top 5 girl names by ethnicity\n",
    "top_girl_w = df[(df[\"Gender\"] == \"FEMALE\") & (df[\"Ethnicity\"] == \"WHITE NON HISP\")].reset_index().drop(columns=[\"index\",\"Gender\",\"Year of Birth\",\"Ethnicity\",\"Rank\"]).rename(columns = {\"Name\":\"WHITE NON HISP\"}).groupby(\"WHITE NON HISP\").sum().sort_values(by=\"Count\",ascending=False).head(5)\n",
    "top_girl_b = df[(df[\"Gender\"] == \"FEMALE\") & (df[\"Ethnicity\"] == \"BLACK NON HISP\")].reset_index().drop(columns=[\"index\",\"Gender\",\"Year of Birth\",\"Ethnicity\",\"Rank\"]).rename(columns = {\"Name\":\"BLACK NON HISP\"}).groupby(\"BLACK NON HISP\").sum().sort_values(by=\"Count\",ascending=False).head(5)\n",
    "top_girl_h = df[(df[\"Gender\"] == \"FEMALE\") & (df[\"Ethnicity\"] == \"HISPANIC\")].reset_index().drop(columns=[\"index\",\"Gender\",\"Year of Birth\",\"Ethnicity\",\"Rank\"]).rename(columns = {\"Name\":\"HISPANIC\"}).groupby(\"HISPANIC\").sum().sort_values(by=\"Count\",ascending=False).head(5)\n",
    "top_girl_a = df[(df[\"Gender\"] == \"FEMALE\") & (df[\"Ethnicity\"] == \"ASIAN AND PACIFIC ISLANDER\")].reset_index().drop(columns=[\"index\",\"Gender\",\"Year of Birth\",\"Ethnicity\",\"Rank\"]).rename(columns = {\"Name\":\"ASIAN AND PACIFIC ISLANDER\"}).groupby(\"ASIAN AND PACIFIC ISLANDER\").sum().sort_values(by=\"Count\",ascending=False).head(5)\n",
    "\n",
    "top_girl_w"
   ]
  },
  {
   "cell_type": "code",
   "execution_count": 320,
   "metadata": {},
   "outputs": [
    {
     "data": {
      "text/html": [
       "<div>\n",
       "<style scoped>\n",
       "    .dataframe tbody tr th:only-of-type {\n",
       "        vertical-align: middle;\n",
       "    }\n",
       "\n",
       "    .dataframe tbody tr th {\n",
       "        vertical-align: top;\n",
       "    }\n",
       "\n",
       "    .dataframe thead th {\n",
       "        text-align: right;\n",
       "    }\n",
       "</style>\n",
       "<table border=\"1\" class=\"dataframe\">\n",
       "  <thead>\n",
       "    <tr style=\"text-align: right;\">\n",
       "      <th></th>\n",
       "      <th>Count</th>\n",
       "    </tr>\n",
       "    <tr>\n",
       "      <th>BLACK NON HISP</th>\n",
       "      <th></th>\n",
       "    </tr>\n",
       "  </thead>\n",
       "  <tbody>\n",
       "    <tr>\n",
       "      <th>Ava</th>\n",
       "      <td>432</td>\n",
       "    </tr>\n",
       "    <tr>\n",
       "      <th>Madison</th>\n",
       "      <td>408</td>\n",
       "    </tr>\n",
       "    <tr>\n",
       "      <th>Aaliyah</th>\n",
       "      <td>377</td>\n",
       "    </tr>\n",
       "    <tr>\n",
       "      <th>Taylor</th>\n",
       "      <td>319</td>\n",
       "    </tr>\n",
       "    <tr>\n",
       "      <th>Chloe</th>\n",
       "      <td>315</td>\n",
       "    </tr>\n",
       "  </tbody>\n",
       "</table>\n",
       "</div>"
      ],
      "text/plain": [
       "                Count\n",
       "BLACK NON HISP       \n",
       "Ava               432\n",
       "Madison           408\n",
       "Aaliyah           377\n",
       "Taylor            319\n",
       "Chloe             315"
      ]
     },
     "execution_count": 320,
     "metadata": {},
     "output_type": "execute_result"
    }
   ],
   "source": [
    "top_girl_b"
   ]
  },
  {
   "cell_type": "code",
   "execution_count": 321,
   "metadata": {},
   "outputs": [
    {
     "data": {
      "text/html": [
       "<div>\n",
       "<style scoped>\n",
       "    .dataframe tbody tr th:only-of-type {\n",
       "        vertical-align: middle;\n",
       "    }\n",
       "\n",
       "    .dataframe tbody tr th {\n",
       "        vertical-align: top;\n",
       "    }\n",
       "\n",
       "    .dataframe thead th {\n",
       "        text-align: right;\n",
       "    }\n",
       "</style>\n",
       "<table border=\"1\" class=\"dataframe\">\n",
       "  <thead>\n",
       "    <tr style=\"text-align: right;\">\n",
       "      <th></th>\n",
       "      <th>Count</th>\n",
       "    </tr>\n",
       "    <tr>\n",
       "      <th>HISPANIC</th>\n",
       "      <th></th>\n",
       "    </tr>\n",
       "  </thead>\n",
       "  <tbody>\n",
       "    <tr>\n",
       "      <th>Emma</th>\n",
       "      <td>981</td>\n",
       "    </tr>\n",
       "    <tr>\n",
       "      <th>Mia</th>\n",
       "      <td>921</td>\n",
       "    </tr>\n",
       "    <tr>\n",
       "      <th>Isabella</th>\n",
       "      <td>914</td>\n",
       "    </tr>\n",
       "    <tr>\n",
       "      <th>Sofia</th>\n",
       "      <td>874</td>\n",
       "    </tr>\n",
       "    <tr>\n",
       "      <th>Camila</th>\n",
       "      <td>866</td>\n",
       "    </tr>\n",
       "  </tbody>\n",
       "</table>\n",
       "</div>"
      ],
      "text/plain": [
       "          Count\n",
       "HISPANIC       \n",
       "Emma        981\n",
       "Mia         921\n",
       "Isabella    914\n",
       "Sofia       874\n",
       "Camila      866"
      ]
     },
     "execution_count": 321,
     "metadata": {},
     "output_type": "execute_result"
    }
   ],
   "source": [
    "top_girl_h"
   ]
  },
  {
   "cell_type": "code",
   "execution_count": 322,
   "metadata": {},
   "outputs": [
    {
     "data": {
      "text/html": [
       "<div>\n",
       "<style scoped>\n",
       "    .dataframe tbody tr th:only-of-type {\n",
       "        vertical-align: middle;\n",
       "    }\n",
       "\n",
       "    .dataframe tbody tr th {\n",
       "        vertical-align: top;\n",
       "    }\n",
       "\n",
       "    .dataframe thead th {\n",
       "        text-align: right;\n",
       "    }\n",
       "</style>\n",
       "<table border=\"1\" class=\"dataframe\">\n",
       "  <thead>\n",
       "    <tr style=\"text-align: right;\">\n",
       "      <th></th>\n",
       "      <th>Count</th>\n",
       "    </tr>\n",
       "    <tr>\n",
       "      <th>ASIAN AND PACIFIC ISLANDER</th>\n",
       "      <th></th>\n",
       "    </tr>\n",
       "  </thead>\n",
       "  <tbody>\n",
       "    <tr>\n",
       "      <th>Olivia</th>\n",
       "      <td>581</td>\n",
       "    </tr>\n",
       "    <tr>\n",
       "      <th>Chloe</th>\n",
       "      <td>509</td>\n",
       "    </tr>\n",
       "    <tr>\n",
       "      <th>Sophia</th>\n",
       "      <td>471</td>\n",
       "    </tr>\n",
       "    <tr>\n",
       "      <th>Emily</th>\n",
       "      <td>401</td>\n",
       "    </tr>\n",
       "    <tr>\n",
       "      <th>Mia</th>\n",
       "      <td>345</td>\n",
       "    </tr>\n",
       "  </tbody>\n",
       "</table>\n",
       "</div>"
      ],
      "text/plain": [
       "                            Count\n",
       "ASIAN AND PACIFIC ISLANDER       \n",
       "Olivia                        581\n",
       "Chloe                         509\n",
       "Sophia                        471\n",
       "Emily                         401\n",
       "Mia                           345"
      ]
     },
     "execution_count": 322,
     "metadata": {},
     "output_type": "execute_result"
    }
   ],
   "source": [
    "top_girl_a"
   ]
  },
  {
   "cell_type": "code",
   "execution_count": 336,
   "metadata": {},
   "outputs": [
    {
     "data": {
      "text/html": [
       "<div>\n",
       "<style scoped>\n",
       "    .dataframe tbody tr th:only-of-type {\n",
       "        vertical-align: middle;\n",
       "    }\n",
       "\n",
       "    .dataframe tbody tr th {\n",
       "        vertical-align: top;\n",
       "    }\n",
       "\n",
       "    .dataframe thead th {\n",
       "        text-align: right;\n",
       "    }\n",
       "</style>\n",
       "<table border=\"1\" class=\"dataframe\">\n",
       "  <thead>\n",
       "    <tr style=\"text-align: right;\">\n",
       "      <th></th>\n",
       "      <th>ASIAN AND PACIFIC ISLANDER</th>\n",
       "      <th>ASIAN AND PACIFIC ISLANDER Names</th>\n",
       "      <th>BLACK NON HISP</th>\n",
       "      <th>BLACK NON HISP Names</th>\n",
       "      <th>HISPANIC</th>\n",
       "      <th>HISPANIC Names</th>\n",
       "      <th>WHITE NON HISP</th>\n",
       "      <th>WHITE NON HISP Names</th>\n",
       "    </tr>\n",
       "  </thead>\n",
       "  <tbody>\n",
       "    <tr>\n",
       "      <th>0</th>\n",
       "      <td>729</td>\n",
       "      <td>Ethan</td>\n",
       "      <td>758</td>\n",
       "      <td>Noah</td>\n",
       "      <td>1533</td>\n",
       "      <td>Dylan</td>\n",
       "      <td>1405</td>\n",
       "      <td>David</td>\n",
       "    </tr>\n",
       "    <tr>\n",
       "      <th>1</th>\n",
       "      <td>678</td>\n",
       "      <td>Ryan</td>\n",
       "      <td>627</td>\n",
       "      <td>Elijah</td>\n",
       "      <td>1417</td>\n",
       "      <td>Matthew</td>\n",
       "      <td>1217</td>\n",
       "      <td>James</td>\n",
       "    </tr>\n",
       "    <tr>\n",
       "      <th>2</th>\n",
       "      <td>650</td>\n",
       "      <td>Lucas</td>\n",
       "      <td>614</td>\n",
       "      <td>Josiah</td>\n",
       "      <td>1328</td>\n",
       "      <td>Sebastian</td>\n",
       "      <td>1217</td>\n",
       "      <td>Moshe</td>\n",
       "    </tr>\n",
       "    <tr>\n",
       "      <th>3</th>\n",
       "      <td>610</td>\n",
       "      <td>Muhammad</td>\n",
       "      <td>595</td>\n",
       "      <td>Jeremiah</td>\n",
       "      <td>1240</td>\n",
       "      <td>Jacob</td>\n",
       "      <td>1187</td>\n",
       "      <td>Jacob</td>\n",
       "    </tr>\n",
       "    <tr>\n",
       "      <th>4</th>\n",
       "      <td>593</td>\n",
       "      <td>Aiden</td>\n",
       "      <td>560</td>\n",
       "      <td>Aiden</td>\n",
       "      <td>1158</td>\n",
       "      <td>Liam</td>\n",
       "      <td>1133</td>\n",
       "      <td>Benjamin</td>\n",
       "    </tr>\n",
       "  </tbody>\n",
       "</table>\n",
       "</div>"
      ],
      "text/plain": [
       "   ASIAN AND PACIFIC ISLANDER ASIAN AND PACIFIC ISLANDER Names  \\\n",
       "0                         729                            Ethan   \n",
       "1                         678                             Ryan   \n",
       "2                         650                            Lucas   \n",
       "3                         610                         Muhammad   \n",
       "4                         593                            Aiden   \n",
       "\n",
       "   BLACK NON HISP BLACK NON HISP Names  HISPANIC HISPANIC Names  \\\n",
       "0             758                 Noah      1533          Dylan   \n",
       "1             627               Elijah      1417        Matthew   \n",
       "2             614               Josiah      1328      Sebastian   \n",
       "3             595             Jeremiah      1240          Jacob   \n",
       "4             560                Aiden      1158           Liam   \n",
       "\n",
       "   WHITE NON HISP WHITE NON HISP Names  \n",
       "0            1405                David  \n",
       "1            1217                James  \n",
       "2            1217                Moshe  \n",
       "3            1187                Jacob  \n",
       "4            1133             Benjamin  "
      ]
     },
     "execution_count": 336,
     "metadata": {},
     "output_type": "execute_result"
    }
   ],
   "source": [
    "#top 5 boy names by ethnicity\n",
    "eths = df[\"Ethnicity\"].unique()\n",
    "df2 = pd.DataFrame()\n",
    "for eth in eths:\n",
    "    babes = df[(df[\"Ethnicity\"] == eth) & (df[\"Gender\"] == \"MALE\")]\n",
    "    res = babes.groupby([\"Name\"])[[\"Count\"]].sum().nlargest(5,\"Count\")\n",
    "    df2[eth] = res.unstack().values\n",
    "    name_col = eth + \" Names\"\n",
    "    df2[name_col] = [name for name in res.index]\n",
    "\n",
    "df2"
   ]
  },
  {
   "cell_type": "code",
   "execution_count": 337,
   "metadata": {},
   "outputs": [
    {
     "data": {
      "text/plain": [
       "array([[<matplotlib.axes._subplots.AxesSubplot object at 0x000001F5D1CA1D68>]],\n",
       "      dtype=object)"
      ]
     },
     "execution_count": 337,
     "metadata": {},
     "output_type": "execute_result"
    },
    {
     "data": {
      "image/png": "[encoded data removed]",
      "text/plain": [
       "<Figure size 864x432 with 1 Axes>"
      ]
     },
     "metadata": {
      "needs_background": "light"
     },
     "output_type": "display_data"
    }
   ],
   "source": [
    "#histograph of freq of A:Z names in the last x years\n",
    "df.hist(column =\"Year of Birth\",figsize=(12,6),color=\"#86bf91\")"
   ]
  },
  {
   "cell_type": "code",
   "execution_count": null,
   "metadata": {},
   "outputs": [],
   "source": []
  }
 ],
 "metadata": {
  "kernelspec": {
   "display_name": "Python 3",
   "language": "python",
   "name": "python3"
  },
  "language_info": {
   "codemirror_mode": {
    "name": "ipython",
    "version": 3
   },
   "file_extension": ".py",
   "mimetype": "text/x-python",
   "name": "python",
   "nbconvert_exporter": "python",
   "pygments_lexer": "ipython3",
   "version": "3.7.0"
  }
 },
 "nbformat": 4,
 "nbformat_minor": 2
}
